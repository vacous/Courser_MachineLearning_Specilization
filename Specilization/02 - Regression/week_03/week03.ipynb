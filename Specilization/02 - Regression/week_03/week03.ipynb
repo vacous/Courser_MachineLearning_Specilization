{
 "cells": [
  {
   "cell_type": "code",
   "execution_count": 1,
   "metadata": {
    "collapsed": true
   },
   "outputs": [],
   "source": [
    "import pandas as pd \n",
    "from sklearn import linear_model\n",
    "import numpy as np\n",
    "import matplotlib.pyplot as plt "
   ]
  },
  {
   "cell_type": "code",
   "execution_count": 2,
   "metadata": {
    "collapsed": true
   },
   "outputs": [],
   "source": [
    "dtype_dict = {'bathrooms':float, 'waterfront':int, 'sqft_above':int, 'sqft_living15':float, 'grade':int, 'yr_renovated':int, 'price':float, 'bedrooms':float, 'zipcode':str, 'long':float, 'sqft_lot15':float, 'sqft_living':float, 'floors':str, 'condition':int, 'lat':float, 'date':str, 'sqft_basement':int, 'yr_built':int, 'id':str, 'sqft_lot':int, 'view':int}"
   ]
  },
  {
   "cell_type": "code",
   "execution_count": 3,
   "metadata": {
    "collapsed": true
   },
   "outputs": [],
   "source": [
    "def polynomialDataFrame(feature, degree):\n",
    "    '''\n",
    "    takes a pd.series feature \n",
    "    put the first colum with name power_1 and the original feature \n",
    "    the second with in_feature ** 2 under name power_2 \n",
    "    '''\n",
    "    output = pd.DataFrame()\n",
    "    for cur_degree in range(degree):\n",
    "        output[\"power\" + str(cur_degree + 1)] = feature ** (cur_degree + 1)\n",
    "    return output"
   ]
  },
  {
   "cell_type": "code",
   "execution_count": 7,
   "metadata": {
    "collapsed": true
   },
   "outputs": [],
   "source": [
    "train_data =  pd.read_csv('./data/wk3_kc_house_train_data.csv', dtype=dtype_dict)\n",
    "valid_data = pd.read_csv('./data/wk3_kc_house_valid_data.csv', dtype=dtype_dict)\n",
    "test_data = pd.read_csv('./data/wk3_kc_house_test_data.csv', dtype=dtype_dict)"
   ]
  },
  {
   "cell_type": "code",
   "execution_count": 10,
   "metadata": {
    "collapsed": false
   },
   "outputs": [],
   "source": [
    "max_order = 15\n",
    "train_xs = polynomialDataFrame(train_data['sqft_living'],max_order)\n",
    "train_y = train_data['price']\n",
    "valid_xs = polynomialDataFrame(valid_data['sqft_living'],max_order)\n",
    "valid_y = valid_data['price']\n",
    "test_xs = polynomialDataFrame(test_data['sqft_living'], max_order)\n",
    "test_y = test_data['price']"
   ]
  },
  {
   "cell_type": "code",
   "execution_count": 20,
   "metadata": {
    "collapsed": false
   },
   "outputs": [
    {
     "name": "stdout",
     "output_type": "stream",
     "text": [
      "1 :  6.290978863e+14\n",
      "2 :  6.23955062707e+14\n",
      "3 :  6.25820280252e+14\n",
      "4 :  6.29987341469e+14\n",
      "5 :  6.28238459168e+14\n",
      "6 :  5.66268554129e+14\n",
      "7 :  1.07384547537e+15\n",
      "8 :  7.08780463037e+15\n",
      "9 :  4.53039037645e+16\n",
      "10 :  2.4736327721e+17\n",
      "11 :  1.19378394915e+18\n",
      "12 :  5.22639692449e+18\n",
      "13 :  7.61623002125e+17\n",
      "14 :  2.29756092505e+18\n",
      "15 :  6.95503809734e+18\n"
     ]
    }
   ],
   "source": [
    "all_model = {}\n",
    "all_RSS = {}\n",
    "for cur_order in range(1,max_order + 1):\n",
    "    cur_xs_train = np.vstack([train_xs['power' + str(idx)] for idx in range(1, cur_order + 1)])\n",
    "    cur_xs_train = cur_xs_train.transpose()\n",
    "    cur_model = linear_model.LinearRegression()\n",
    "    cur_model.fit(cur_xs_train, train_y)\n",
    "    # predict the y value in validation set \n",
    "    cur_xs_valid = np.vstack([valid_xs['power' + str(idx)] for idx in range(1, cur_order + 1)])\n",
    "    cur_xs_valid = cur_xs_valid.transpose()\n",
    "    fit_y = cur_model.predict(cur_xs_valid)\n",
    "    # calculate RSS and save model \n",
    "    cur_RSS = sum([(fit_y[idx] - valid_y[idx])**2 for idx in range(len(fit_y))])\n",
    "    all_RSS[cur_order] = cur_RSS\n",
    "    all_model[cur_order] = cur_model\n",
    "    # print out result \n",
    "    print(cur_order, ': ', cur_RSS)"
   ]
  },
  {
   "cell_type": "code",
   "execution_count": 36,
   "metadata": {
    "collapsed": false
   },
   "outputs": [
    {
     "data": {
      "image/png": "[encoded data removed]",
      "text/plain": [
       "<matplotlib.figure.Figure at 0x1f9173a9c18>"
      ]
     },
     "metadata": {},
     "output_type": "display_data"
    }
   ],
   "source": [
    "plt.figure()\n",
    "plt.title(\"Order - RSS on validation set\")\n",
    "plt.plot(list(all_RSS.keys()),\n",
    "         list(all_RSS.values()))\n",
    "plt.xlabel('Order')\n",
    "plt.ylabel('RSS')\n",
    "plt.show()"
   ]
  },
  {
   "cell_type": "code",
   "execution_count": 39,
   "metadata": {
    "collapsed": false
   },
   "outputs": [
    {
     "name": "stdout",
     "output_type": "stream",
     "text": [
      "Best Order:  6\n",
      "Test RSS:  1.35225113037e+14\n"
     ]
    }
   ],
   "source": [
    "# on Test set \n",
    "best_order = min(all_RSS, key = all_RSS.get)\n",
    "print(\"Best Order: \", best_order)\n",
    "best_model = all_model[best_order]\n",
    "best_order_xs = np.vstack([test_xs['power' + str(idx)] for idx in range(1,best_order+1)])\n",
    "best_order_xs = best_order_xs.transpose()\n",
    "fit_test = best_model.predict(best_order_xs)\n",
    "best_RSS_test = sum([(fit_test[idx] - test_y[idx]) ** 2 for idx in range(len(fit_test))])\n",
    "print('Test RSS: ', best_RSS_test)"
   ]
  },
  {
   "cell_type": "code",
   "execution_count": null,
   "metadata": {
    "collapsed": true
   },
   "outputs": [],
   "source": []
  }
 ],
 "metadata": {
  "kernelspec": {
   "display_name": "Python 3",
   "language": "python",
   "name": "python3"
  },
  "language_info": {
   "codemirror_mode": {
    "name": "ipython",
    "version": 3
   },
   "file_extension": ".py",
   "mimetype": "text/x-python",
   "name": "python",
   "nbconvert_exporter": "python",
   "pygments_lexer": "ipython3",
   "version": "3.5.2"
  }
 },
 "nbformat": 4,
 "nbformat_minor": 2
}
